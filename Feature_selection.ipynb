{
  "cells": [
    {
      "cell_type": "markdown",
      "id": "a056eae1",
      "metadata": {
        "id": "a056eae1"
      },
      "source": [
        "$Feature$-$Selection$"
      ]
    },
    {
      "cell_type": "markdown",
      "id": "91e70a89",
      "metadata": {
        "id": "91e70a89"
      },
      "source": [
        "- Retrival the important features\n",
        "\n",
        "- selecting an important features is very important step before going to ML\n",
        "\n",
        "- Droping the constant fetaures\n",
        "\n",
        "- Information gain\n",
        "\n",
        "- p-value\n",
        "\n",
        "- Forward selection and backward selection\n",
        "\n",
        "- Correlation with target column"
      ]
    },
    {
      "cell_type": "markdown",
      "id": "c05561e5",
      "metadata": {
        "id": "c05561e5"
      },
      "source": [
        "$Method-1$:  Variance threshold method\n",
        "\n",
        "**Droping constanat fetaures**\n",
        "\n",
        "- If the features or variables having zero varinace\n",
        "\n",
        "- the feature values through out the data is the same\n",
        "\n",
        "- you can decide manually what is your desired variance in order to keep the feature"
      ]
    },
    {
      "cell_type": "code",
      "execution_count": null,
      "id": "7712ba46",
      "metadata": {
        "id": "7712ba46",
        "outputId": "62ff9076-b5bb-40a6-8f96-25212e3670ad"
      },
      "outputs": [
        {
          "data": {
            "text/html": [
              "<div>\n",
              "<style scoped>\n",
              "    .dataframe tbody tr th:only-of-type {\n",
              "        vertical-align: middle;\n",
              "    }\n",
              "\n",
              "    .dataframe tbody tr th {\n",
              "        vertical-align: top;\n",
              "    }\n",
              "\n",
              "    .dataframe thead th {\n",
              "        text-align: right;\n",
              "    }\n",
              "</style>\n",
              "<table border=\"1\" class=\"dataframe\">\n",
              "  <thead>\n",
              "    <tr style=\"text-align: right;\">\n",
              "      <th></th>\n",
              "      <th>A</th>\n",
              "      <th>B</th>\n",
              "      <th>C</th>\n",
              "      <th>D</th>\n",
              "    </tr>\n",
              "  </thead>\n",
              "  <tbody>\n",
              "    <tr>\n",
              "      <th>0</th>\n",
              "      <td>100</td>\n",
              "      <td>1</td>\n",
              "      <td>10</td>\n",
              "      <td>10</td>\n",
              "    </tr>\n",
              "    <tr>\n",
              "      <th>1</th>\n",
              "      <td>200</td>\n",
              "      <td>2</td>\n",
              "      <td>20</td>\n",
              "      <td>10</td>\n",
              "    </tr>\n",
              "    <tr>\n",
              "      <th>2</th>\n",
              "      <td>300</td>\n",
              "      <td>3</td>\n",
              "      <td>30</td>\n",
              "      <td>10</td>\n",
              "    </tr>\n",
              "    <tr>\n",
              "      <th>3</th>\n",
              "      <td>400</td>\n",
              "      <td>4</td>\n",
              "      <td>40</td>\n",
              "      <td>10</td>\n",
              "    </tr>\n",
              "  </tbody>\n",
              "</table>\n",
              "</div>"
            ],
            "text/plain": [
              "     A  B   C   D\n",
              "0  100  1  10  10\n",
              "1  200  2  20  10\n",
              "2  300  3  30  10\n",
              "3  400  4  40  10"
            ]
          },
          "execution_count": 1,
          "metadata": {},
          "output_type": "execute_result"
        }
      ],
      "source": [
        "import pandas as pd\n",
        "dict1={'A':[100,200,300,400],\n",
        "      'B':[1,2,3,4],\n",
        "       'C':[10,20,30,40],\n",
        "       'D':[10,10,10,10]}\n",
        "\n",
        "df=pd.DataFrame(dict1)\n",
        "df"
      ]
    },
    {
      "cell_type": "code",
      "execution_count": null,
      "id": "c764e929",
      "metadata": {
        "id": "c764e929",
        "outputId": "55bb4c4c-68c0-43a7-886c-20aae380737b"
      },
      "outputs": [
        {
          "data": {
            "text/html": [
              "<style>#sk-container-id-1 {color: black;background-color: white;}#sk-container-id-1 pre{padding: 0;}#sk-container-id-1 div.sk-toggleable {background-color: white;}#sk-container-id-1 label.sk-toggleable__label {cursor: pointer;display: block;width: 100%;margin-bottom: 0;padding: 0.3em;box-sizing: border-box;text-align: center;}#sk-container-id-1 label.sk-toggleable__label-arrow:before {content: \"▸\";float: left;margin-right: 0.25em;color: #696969;}#sk-container-id-1 label.sk-toggleable__label-arrow:hover:before {color: black;}#sk-container-id-1 div.sk-estimator:hover label.sk-toggleable__label-arrow:before {color: black;}#sk-container-id-1 div.sk-toggleable__content {max-height: 0;max-width: 0;overflow: hidden;text-align: left;background-color: #f0f8ff;}#sk-container-id-1 div.sk-toggleable__content pre {margin: 0.2em;color: black;border-radius: 0.25em;background-color: #f0f8ff;}#sk-container-id-1 input.sk-toggleable__control:checked~div.sk-toggleable__content {max-height: 200px;max-width: 100%;overflow: auto;}#sk-container-id-1 input.sk-toggleable__control:checked~label.sk-toggleable__label-arrow:before {content: \"▾\";}#sk-container-id-1 div.sk-estimator input.sk-toggleable__control:checked~label.sk-toggleable__label {background-color: #d4ebff;}#sk-container-id-1 div.sk-label input.sk-toggleable__control:checked~label.sk-toggleable__label {background-color: #d4ebff;}#sk-container-id-1 input.sk-hidden--visually {border: 0;clip: rect(1px 1px 1px 1px);clip: rect(1px, 1px, 1px, 1px);height: 1px;margin: -1px;overflow: hidden;padding: 0;position: absolute;width: 1px;}#sk-container-id-1 div.sk-estimator {font-family: monospace;background-color: #f0f8ff;border: 1px dotted black;border-radius: 0.25em;box-sizing: border-box;margin-bottom: 0.5em;}#sk-container-id-1 div.sk-estimator:hover {background-color: #d4ebff;}#sk-container-id-1 div.sk-parallel-item::after {content: \"\";width: 100%;border-bottom: 1px solid gray;flex-grow: 1;}#sk-container-id-1 div.sk-label:hover label.sk-toggleable__label {background-color: #d4ebff;}#sk-container-id-1 div.sk-serial::before {content: \"\";position: absolute;border-left: 1px solid gray;box-sizing: border-box;top: 0;bottom: 0;left: 50%;z-index: 0;}#sk-container-id-1 div.sk-serial {display: flex;flex-direction: column;align-items: center;background-color: white;padding-right: 0.2em;padding-left: 0.2em;position: relative;}#sk-container-id-1 div.sk-item {position: relative;z-index: 1;}#sk-container-id-1 div.sk-parallel {display: flex;align-items: stretch;justify-content: center;background-color: white;position: relative;}#sk-container-id-1 div.sk-item::before, #sk-container-id-1 div.sk-parallel-item::before {content: \"\";position: absolute;border-left: 1px solid gray;box-sizing: border-box;top: 0;bottom: 0;left: 50%;z-index: -1;}#sk-container-id-1 div.sk-parallel-item {display: flex;flex-direction: column;z-index: 1;position: relative;background-color: white;}#sk-container-id-1 div.sk-parallel-item:first-child::after {align-self: flex-end;width: 50%;}#sk-container-id-1 div.sk-parallel-item:last-child::after {align-self: flex-start;width: 50%;}#sk-container-id-1 div.sk-parallel-item:only-child::after {width: 0;}#sk-container-id-1 div.sk-dashed-wrapped {border: 1px dashed gray;margin: 0 0.4em 0.5em 0.4em;box-sizing: border-box;padding-bottom: 0.4em;background-color: white;}#sk-container-id-1 div.sk-label label {font-family: monospace;font-weight: bold;display: inline-block;line-height: 1.2em;}#sk-container-id-1 div.sk-label-container {text-align: center;}#sk-container-id-1 div.sk-container {/* jupyter's `normalize.less` sets `[hidden] { display: none; }` but bootstrap.min.css set `[hidden] { display: none !important; }` so we also need the `!important` here to be able to override the default hidden behavior on the sphinx rendered scikit-learn.org. See: https://github.com/scikit-learn/scikit-learn/issues/21755 */display: inline-block !important;position: relative;}#sk-container-id-1 div.sk-text-repr-fallback {display: none;}</style><div id=\"sk-container-id-1\" class=\"sk-top-container\"><div class=\"sk-text-repr-fallback\"><pre>VarianceThreshold(threshold=0)</pre><b>In a Jupyter environment, please rerun this cell to show the HTML representation or trust the notebook. <br />On GitHub, the HTML representation is unable to render, please try loading this page with nbviewer.org.</b></div><div class=\"sk-container\" hidden><div class=\"sk-item\"><div class=\"sk-estimator sk-toggleable\"><input class=\"sk-toggleable__control sk-hidden--visually\" id=\"sk-estimator-id-1\" type=\"checkbox\" checked><label for=\"sk-estimator-id-1\" class=\"sk-toggleable__label sk-toggleable__label-arrow\">VarianceThreshold</label><div class=\"sk-toggleable__content\"><pre>VarianceThreshold(threshold=0)</pre></div></div></div></div></div>"
            ],
            "text/plain": [
              "VarianceThreshold(threshold=0)"
            ]
          },
          "execution_count": 2,
          "metadata": {},
          "output_type": "execute_result"
        }
      ],
      "source": [
        "from sklearn.feature_selection import VarianceThreshold\n",
        "vt=VarianceThreshold(threshold=0)\n",
        "vt.fit(df)"
      ]
    },
    {
      "cell_type": "code",
      "execution_count": null,
      "id": "9eaaa80d",
      "metadata": {
        "id": "9eaaa80d",
        "outputId": "ec6d6f69-1d1d-4dcd-8a8b-0ea8cd08e3f1"
      },
      "outputs": [
        {
          "data": {
            "text/plain": [
              "['__abstractmethods__',\n",
              " '__annotations__',\n",
              " '__class__',\n",
              " '__delattr__',\n",
              " '__dict__',\n",
              " '__dir__',\n",
              " '__doc__',\n",
              " '__eq__',\n",
              " '__format__',\n",
              " '__ge__',\n",
              " '__getattribute__',\n",
              " '__getstate__',\n",
              " '__gt__',\n",
              " '__hash__',\n",
              " '__init__',\n",
              " '__init_subclass__',\n",
              " '__le__',\n",
              " '__lt__',\n",
              " '__module__',\n",
              " '__ne__',\n",
              " '__new__',\n",
              " '__reduce__',\n",
              " '__reduce_ex__',\n",
              " '__repr__',\n",
              " '__setattr__',\n",
              " '__setstate__',\n",
              " '__sizeof__',\n",
              " '__str__',\n",
              " '__subclasshook__',\n",
              " '__weakref__',\n",
              " '_abc_impl',\n",
              " '_check_feature_names',\n",
              " '_check_n_features',\n",
              " '_get_param_names',\n",
              " '_get_support_mask',\n",
              " '_get_tags',\n",
              " '_more_tags',\n",
              " '_parameter_constraints',\n",
              " '_repr_html_',\n",
              " '_repr_html_inner',\n",
              " '_repr_mimebundle_',\n",
              " '_sklearn_auto_wrap_output_keys',\n",
              " '_transform',\n",
              " '_validate_data',\n",
              " '_validate_params',\n",
              " 'feature_names_in_',\n",
              " 'fit',\n",
              " 'fit_transform',\n",
              " 'get_feature_names_out',\n",
              " 'get_params',\n",
              " 'get_support',\n",
              " 'inverse_transform',\n",
              " 'n_features_in_',\n",
              " 'set_output',\n",
              " 'set_params',\n",
              " 'threshold',\n",
              " 'transform',\n",
              " 'variances_']"
            ]
          },
          "execution_count": 5,
          "metadata": {},
          "output_type": "execute_result"
        }
      ],
      "source": [
        "dir(vt)"
      ]
    },
    {
      "cell_type": "code",
      "execution_count": null,
      "id": "3526aa49",
      "metadata": {
        "id": "3526aa49",
        "outputId": "864d70e5-c23a-43e4-83e6-8a994671da60"
      },
      "outputs": [
        {
          "data": {
            "text/html": [
              "<div>\n",
              "<style scoped>\n",
              "    .dataframe tbody tr th:only-of-type {\n",
              "        vertical-align: middle;\n",
              "    }\n",
              "\n",
              "    .dataframe tbody tr th {\n",
              "        vertical-align: top;\n",
              "    }\n",
              "\n",
              "    .dataframe thead th {\n",
              "        text-align: right;\n",
              "    }\n",
              "</style>\n",
              "<table border=\"1\" class=\"dataframe\">\n",
              "  <thead>\n",
              "    <tr style=\"text-align: right;\">\n",
              "      <th></th>\n",
              "      <th>A</th>\n",
              "      <th>B</th>\n",
              "      <th>C</th>\n",
              "      <th>D</th>\n",
              "    </tr>\n",
              "  </thead>\n",
              "  <tbody>\n",
              "    <tr>\n",
              "      <th>0</th>\n",
              "      <td>100</td>\n",
              "      <td>1</td>\n",
              "      <td>10</td>\n",
              "      <td>10</td>\n",
              "    </tr>\n",
              "    <tr>\n",
              "      <th>1</th>\n",
              "      <td>200</td>\n",
              "      <td>2</td>\n",
              "      <td>20</td>\n",
              "      <td>10</td>\n",
              "    </tr>\n",
              "    <tr>\n",
              "      <th>2</th>\n",
              "      <td>300</td>\n",
              "      <td>3</td>\n",
              "      <td>30</td>\n",
              "      <td>10</td>\n",
              "    </tr>\n",
              "    <tr>\n",
              "      <th>3</th>\n",
              "      <td>400</td>\n",
              "      <td>4</td>\n",
              "      <td>40</td>\n",
              "      <td>10</td>\n",
              "    </tr>\n",
              "  </tbody>\n",
              "</table>\n",
              "</div>"
            ],
            "text/plain": [
              "     A  B   C   D\n",
              "0  100  1  10  10\n",
              "1  200  2  20  10\n",
              "2  300  3  30  10\n",
              "3  400  4  40  10"
            ]
          },
          "execution_count": 6,
          "metadata": {},
          "output_type": "execute_result"
        }
      ],
      "source": [
        "df\n",
        "\n",
        "# The column D is not changing\n",
        "# The column D has same values\n",
        "# Same values means the variance =0\n",
        "# I keep threshld=0\n",
        "# D should remove"
      ]
    },
    {
      "cell_type": "code",
      "execution_count": null,
      "id": "4d659308",
      "metadata": {
        "id": "4d659308",
        "outputId": "02740aca-0ac4-42ad-9cd0-7b44579bdddc"
      },
      "outputs": [
        {
          "data": {
            "text/plain": [
              "array([ True,  True,  True, False])"
            ]
          },
          "execution_count": 12,
          "metadata": {},
          "output_type": "execute_result"
        }
      ],
      "source": [
        "vt.get_support()"
      ]
    },
    {
      "cell_type": "markdown",
      "id": "e6bd6b82",
      "metadata": {
        "id": "e6bd6b82"
      },
      "source": [
        "if the values are constant and if one value is zero we will remove that row or column?\n",
        "\n",
        " - you want to drop the columns: if that column is useless\n",
        "    \n",
        " - the data is not changing much:variance is zero"
      ]
    },
    {
      "cell_type": "code",
      "execution_count": null,
      "id": "495e38e7",
      "metadata": {
        "id": "495e38e7",
        "outputId": "72252c8a-5c19-4934-c065-ffc497b9b3e0"
      },
      "outputs": [
        {
          "data": {
            "text/plain": [
              "{'threshold': 0}"
            ]
          },
          "execution_count": 13,
          "metadata": {},
          "output_type": "execute_result"
        }
      ],
      "source": [
        "vt.get_params()"
      ]
    },
    {
      "cell_type": "code",
      "execution_count": null,
      "id": "5b3eb386",
      "metadata": {
        "id": "5b3eb386",
        "outputId": "43167492-5e63-4d1d-eff9-9ab1b00a4553"
      },
      "outputs": [
        {
          "data": {
            "text/plain": [
              "array([ True,  True,  True, False])"
            ]
          },
          "execution_count": 17,
          "metadata": {},
          "output_type": "execute_result"
        }
      ],
      "source": [
        "vt.get_support()"
      ]
    },
    {
      "cell_type": "code",
      "execution_count": null,
      "id": "954e7dc1",
      "metadata": {
        "id": "954e7dc1",
        "outputId": "50327a48-7eb8-4382-a9a1-726781efe6a2"
      },
      "outputs": [
        {
          "data": {
            "text/plain": [
              "Index(['A', 'B', 'C'], dtype='object')"
            ]
          },
          "execution_count": 19,
          "metadata": {},
          "output_type": "execute_result"
        }
      ],
      "source": [
        "cols=df.columns[vt.get_support()]\n",
        "cols\n",
        "# D is removed"
      ]
    },
    {
      "cell_type": "code",
      "execution_count": null,
      "id": "c769a284",
      "metadata": {
        "id": "c769a284",
        "outputId": "78265ea4-dbbb-4c86-c35a-bc620dc14b58"
      },
      "outputs": [
        {
          "data": {
            "text/html": [
              "<div>\n",
              "<style scoped>\n",
              "    .dataframe tbody tr th:only-of-type {\n",
              "        vertical-align: middle;\n",
              "    }\n",
              "\n",
              "    .dataframe tbody tr th {\n",
              "        vertical-align: top;\n",
              "    }\n",
              "\n",
              "    .dataframe thead th {\n",
              "        text-align: right;\n",
              "    }\n",
              "</style>\n",
              "<table border=\"1\" class=\"dataframe\">\n",
              "  <thead>\n",
              "    <tr style=\"text-align: right;\">\n",
              "      <th></th>\n",
              "      <th>A</th>\n",
              "      <th>B</th>\n",
              "      <th>C</th>\n",
              "    </tr>\n",
              "  </thead>\n",
              "  <tbody>\n",
              "    <tr>\n",
              "      <th>0</th>\n",
              "      <td>100</td>\n",
              "      <td>1</td>\n",
              "      <td>10</td>\n",
              "    </tr>\n",
              "    <tr>\n",
              "      <th>1</th>\n",
              "      <td>200</td>\n",
              "      <td>2</td>\n",
              "      <td>20</td>\n",
              "    </tr>\n",
              "    <tr>\n",
              "      <th>2</th>\n",
              "      <td>300</td>\n",
              "      <td>3</td>\n",
              "      <td>30</td>\n",
              "    </tr>\n",
              "    <tr>\n",
              "      <th>3</th>\n",
              "      <td>400</td>\n",
              "      <td>4</td>\n",
              "      <td>40</td>\n",
              "    </tr>\n",
              "  </tbody>\n",
              "</table>\n",
              "</div>"
            ],
            "text/plain": [
              "     A  B   C\n",
              "0  100  1  10\n",
              "1  200  2  20\n",
              "2  300  3  30\n",
              "3  400  4  40"
            ]
          },
          "execution_count": 20,
          "metadata": {},
          "output_type": "execute_result"
        }
      ],
      "source": [
        "df[cols]"
      ]
    },
    {
      "cell_type": "code",
      "execution_count": null,
      "id": "961ac20a",
      "metadata": {
        "id": "961ac20a",
        "outputId": "dca03d35-85b8-4759-d51c-fa274dc16be8"
      },
      "outputs": [
        {
          "data": {
            "text/html": [
              "<div>\n",
              "<style scoped>\n",
              "    .dataframe tbody tr th:only-of-type {\n",
              "        vertical-align: middle;\n",
              "    }\n",
              "\n",
              "    .dataframe tbody tr th {\n",
              "        vertical-align: top;\n",
              "    }\n",
              "\n",
              "    .dataframe thead th {\n",
              "        text-align: right;\n",
              "    }\n",
              "</style>\n",
              "<table border=\"1\" class=\"dataframe\">\n",
              "  <thead>\n",
              "    <tr style=\"text-align: right;\">\n",
              "      <th></th>\n",
              "      <th>A</th>\n",
              "      <th>B</th>\n",
              "      <th>C</th>\n",
              "    </tr>\n",
              "  </thead>\n",
              "  <tbody>\n",
              "    <tr>\n",
              "      <th>0</th>\n",
              "      <td>100</td>\n",
              "      <td>1</td>\n",
              "      <td>10</td>\n",
              "    </tr>\n",
              "    <tr>\n",
              "      <th>1</th>\n",
              "      <td>200</td>\n",
              "      <td>2</td>\n",
              "      <td>20</td>\n",
              "    </tr>\n",
              "    <tr>\n",
              "      <th>2</th>\n",
              "      <td>300</td>\n",
              "      <td>3</td>\n",
              "      <td>30</td>\n",
              "    </tr>\n",
              "    <tr>\n",
              "      <th>3</th>\n",
              "      <td>400</td>\n",
              "      <td>4</td>\n",
              "      <td>40</td>\n",
              "    </tr>\n",
              "  </tbody>\n",
              "</table>\n",
              "</div>"
            ],
            "text/plain": [
              "     A  B   C\n",
              "0  100  1  10\n",
              "1  200  2  20\n",
              "2  300  3  30\n",
              "3  400  4  40"
            ]
          },
          "execution_count": 21,
          "metadata": {},
          "output_type": "execute_result"
        }
      ],
      "source": [
        "from sklearn.feature_selection import VarianceThreshold\n",
        "vt=VarianceThreshold(threshold=0)\n",
        "vt.fit(df)\n",
        "cols=df.columns[vt.get_support()]\n",
        "df[cols]\n",
        "\n",
        "# Dont do on Target varaible\n",
        "# while providng the data remove the target variables"
      ]
    },
    {
      "cell_type": "code",
      "execution_count": null,
      "id": "8cbc0d8c",
      "metadata": {
        "id": "8cbc0d8c",
        "outputId": "a5efd13c-63e2-427e-a2a3-7a782b56e6b8"
      },
      "outputs": [
        {
          "data": {
            "text/html": [
              "<div>\n",
              "<style scoped>\n",
              "    .dataframe tbody tr th:only-of-type {\n",
              "        vertical-align: middle;\n",
              "    }\n",
              "\n",
              "    .dataframe tbody tr th {\n",
              "        vertical-align: top;\n",
              "    }\n",
              "\n",
              "    .dataframe thead th {\n",
              "        text-align: right;\n",
              "    }\n",
              "</style>\n",
              "<table border=\"1\" class=\"dataframe\">\n",
              "  <thead>\n",
              "    <tr style=\"text-align: right;\">\n",
              "      <th></th>\n",
              "      <th>fixed acidity</th>\n",
              "      <th>volatile acidity</th>\n",
              "      <th>citric acid</th>\n",
              "      <th>residual sugar</th>\n",
              "      <th>chlorides</th>\n",
              "      <th>free sulfur dioxide</th>\n",
              "      <th>total sulfur dioxide</th>\n",
              "      <th>density</th>\n",
              "      <th>pH</th>\n",
              "      <th>sulphates</th>\n",
              "      <th>alcohol</th>\n",
              "      <th>quality</th>\n",
              "    </tr>\n",
              "  </thead>\n",
              "  <tbody>\n",
              "    <tr>\n",
              "      <th>0</th>\n",
              "      <td>7.4</td>\n",
              "      <td>0.70</td>\n",
              "      <td>0.00</td>\n",
              "      <td>1.9</td>\n",
              "      <td>0.076</td>\n",
              "      <td>11.0</td>\n",
              "      <td>34.0</td>\n",
              "      <td>0.9978</td>\n",
              "      <td>3.51</td>\n",
              "      <td>0.56</td>\n",
              "      <td>9.4</td>\n",
              "      <td>5</td>\n",
              "    </tr>\n",
              "    <tr>\n",
              "      <th>1</th>\n",
              "      <td>7.8</td>\n",
              "      <td>0.88</td>\n",
              "      <td>0.00</td>\n",
              "      <td>2.6</td>\n",
              "      <td>0.098</td>\n",
              "      <td>25.0</td>\n",
              "      <td>67.0</td>\n",
              "      <td>0.9968</td>\n",
              "      <td>3.20</td>\n",
              "      <td>0.68</td>\n",
              "      <td>9.8</td>\n",
              "      <td>5</td>\n",
              "    </tr>\n",
              "    <tr>\n",
              "      <th>2</th>\n",
              "      <td>7.8</td>\n",
              "      <td>0.76</td>\n",
              "      <td>0.04</td>\n",
              "      <td>2.3</td>\n",
              "      <td>0.092</td>\n",
              "      <td>15.0</td>\n",
              "      <td>54.0</td>\n",
              "      <td>0.9970</td>\n",
              "      <td>3.26</td>\n",
              "      <td>0.65</td>\n",
              "      <td>9.8</td>\n",
              "      <td>5</td>\n",
              "    </tr>\n",
              "    <tr>\n",
              "      <th>3</th>\n",
              "      <td>11.2</td>\n",
              "      <td>0.28</td>\n",
              "      <td>0.56</td>\n",
              "      <td>1.9</td>\n",
              "      <td>0.075</td>\n",
              "      <td>17.0</td>\n",
              "      <td>60.0</td>\n",
              "      <td>0.9980</td>\n",
              "      <td>3.16</td>\n",
              "      <td>0.58</td>\n",
              "      <td>9.8</td>\n",
              "      <td>6</td>\n",
              "    </tr>\n",
              "    <tr>\n",
              "      <th>4</th>\n",
              "      <td>7.4</td>\n",
              "      <td>0.70</td>\n",
              "      <td>0.00</td>\n",
              "      <td>1.9</td>\n",
              "      <td>0.076</td>\n",
              "      <td>11.0</td>\n",
              "      <td>34.0</td>\n",
              "      <td>0.9978</td>\n",
              "      <td>3.51</td>\n",
              "      <td>0.56</td>\n",
              "      <td>9.4</td>\n",
              "      <td>5</td>\n",
              "    </tr>\n",
              "  </tbody>\n",
              "</table>\n",
              "</div>"
            ],
            "text/plain": [
              "   fixed acidity  volatile acidity  citric acid  residual sugar  chlorides  \\\n",
              "0            7.4              0.70         0.00             1.9      0.076   \n",
              "1            7.8              0.88         0.00             2.6      0.098   \n",
              "2            7.8              0.76         0.04             2.3      0.092   \n",
              "3           11.2              0.28         0.56             1.9      0.075   \n",
              "4            7.4              0.70         0.00             1.9      0.076   \n",
              "\n",
              "   free sulfur dioxide  total sulfur dioxide  density    pH  sulphates  \\\n",
              "0                 11.0                  34.0   0.9978  3.51       0.56   \n",
              "1                 25.0                  67.0   0.9968  3.20       0.68   \n",
              "2                 15.0                  54.0   0.9970  3.26       0.65   \n",
              "3                 17.0                  60.0   0.9980  3.16       0.58   \n",
              "4                 11.0                  34.0   0.9978  3.51       0.56   \n",
              "\n",
              "   alcohol  quality  \n",
              "0      9.4        5  \n",
              "1      9.8        5  \n",
              "2      9.8        5  \n",
              "3      9.8        6  \n",
              "4      9.4        5  "
            ]
          },
          "execution_count": 24,
          "metadata": {},
          "output_type": "execute_result"
        }
      ],
      "source": [
        "import pandas as pd\n",
        "\n",
        "data=pd.read_csv(\"C:\\\\Users\\\\omkar\\\\OneDrive\\\\Documents\\\\Data science\\\\Naresh IT\\\\Datafiles\\\\winequality_red.csv\")\n",
        "data.head()"
      ]
    },
    {
      "cell_type": "code",
      "execution_count": null,
      "id": "b470f865",
      "metadata": {
        "id": "b470f865",
        "outputId": "4826c901-ae9e-4939-d6a0-8ad282a2372f"
      },
      "outputs": [
        {
          "data": {
            "text/plain": [
              "Index(['fixed acidity', 'volatile acidity', 'citric acid', 'residual sugar',\n",
              "       'chlorides', 'free sulfur dioxide', 'total sulfur dioxide', 'density',\n",
              "       'pH', 'sulphates', 'alcohol', 'quality'],\n",
              "      dtype='object')"
            ]
          },
          "execution_count": 25,
          "metadata": {},
          "output_type": "execute_result"
        }
      ],
      "source": [
        "# Apply only Input columns\n",
        "# drop the target column: quality\n",
        "data.columns"
      ]
    },
    {
      "cell_type": "code",
      "execution_count": null,
      "id": "7f53add8",
      "metadata": {
        "id": "7f53add8",
        "outputId": "2e9dfc00-3e30-453f-a639-23749314e63b"
      },
      "outputs": [
        {
          "name": "stdout",
          "output_type": "stream",
          "text": [
            "(1599, 11)\n"
          ]
        }
      ],
      "source": [
        "# Seperate input and output column\n",
        "X=data.drop('quality',axis=1)\n",
        "# inplace =True  data will with out quality\n",
        "# dont apply inplace True\n",
        "X.columns\n",
        "print(X.shape)\n",
        "y=data['quality']"
      ]
    },
    {
      "cell_type": "code",
      "execution_count": null,
      "id": "c817e6f6",
      "metadata": {
        "id": "c817e6f6"
      },
      "outputs": [],
      "source": [
        "# Here in two examples I have taken numerical data\n",
        "# Will convert categorical data to numerical data before developing the ML algorithm\n",
        "# thats why here im using only numerical data"
      ]
    },
    {
      "cell_type": "code",
      "execution_count": null,
      "id": "4508a048",
      "metadata": {
        "id": "4508a048",
        "outputId": "321e1b4d-0fac-4c09-c762-a48ebded811c"
      },
      "outputs": [
        {
          "data": {
            "text/html": [
              "<div>\n",
              "<style scoped>\n",
              "    .dataframe tbody tr th:only-of-type {\n",
              "        vertical-align: middle;\n",
              "    }\n",
              "\n",
              "    .dataframe tbody tr th {\n",
              "        vertical-align: top;\n",
              "    }\n",
              "\n",
              "    .dataframe thead th {\n",
              "        text-align: right;\n",
              "    }\n",
              "</style>\n",
              "<table border=\"1\" class=\"dataframe\">\n",
              "  <thead>\n",
              "    <tr style=\"text-align: right;\">\n",
              "      <th></th>\n",
              "      <th>fixed acidity</th>\n",
              "      <th>residual sugar</th>\n",
              "      <th>free sulfur dioxide</th>\n",
              "      <th>total sulfur dioxide</th>\n",
              "      <th>alcohol</th>\n",
              "    </tr>\n",
              "  </thead>\n",
              "  <tbody>\n",
              "    <tr>\n",
              "      <th>0</th>\n",
              "      <td>7.4</td>\n",
              "      <td>1.9</td>\n",
              "      <td>11.0</td>\n",
              "      <td>34.0</td>\n",
              "      <td>9.4</td>\n",
              "    </tr>\n",
              "    <tr>\n",
              "      <th>1</th>\n",
              "      <td>7.8</td>\n",
              "      <td>2.6</td>\n",
              "      <td>25.0</td>\n",
              "      <td>67.0</td>\n",
              "      <td>9.8</td>\n",
              "    </tr>\n",
              "    <tr>\n",
              "      <th>2</th>\n",
              "      <td>7.8</td>\n",
              "      <td>2.3</td>\n",
              "      <td>15.0</td>\n",
              "      <td>54.0</td>\n",
              "      <td>9.8</td>\n",
              "    </tr>\n",
              "    <tr>\n",
              "      <th>3</th>\n",
              "      <td>11.2</td>\n",
              "      <td>1.9</td>\n",
              "      <td>17.0</td>\n",
              "      <td>60.0</td>\n",
              "      <td>9.8</td>\n",
              "    </tr>\n",
              "    <tr>\n",
              "      <th>4</th>\n",
              "      <td>7.4</td>\n",
              "      <td>1.9</td>\n",
              "      <td>11.0</td>\n",
              "      <td>34.0</td>\n",
              "      <td>9.4</td>\n",
              "    </tr>\n",
              "    <tr>\n",
              "      <th>...</th>\n",
              "      <td>...</td>\n",
              "      <td>...</td>\n",
              "      <td>...</td>\n",
              "      <td>...</td>\n",
              "      <td>...</td>\n",
              "    </tr>\n",
              "    <tr>\n",
              "      <th>1594</th>\n",
              "      <td>6.2</td>\n",
              "      <td>2.0</td>\n",
              "      <td>32.0</td>\n",
              "      <td>44.0</td>\n",
              "      <td>10.5</td>\n",
              "    </tr>\n",
              "    <tr>\n",
              "      <th>1595</th>\n",
              "      <td>5.9</td>\n",
              "      <td>2.2</td>\n",
              "      <td>39.0</td>\n",
              "      <td>51.0</td>\n",
              "      <td>11.2</td>\n",
              "    </tr>\n",
              "    <tr>\n",
              "      <th>1596</th>\n",
              "      <td>6.3</td>\n",
              "      <td>2.3</td>\n",
              "      <td>29.0</td>\n",
              "      <td>40.0</td>\n",
              "      <td>11.0</td>\n",
              "    </tr>\n",
              "    <tr>\n",
              "      <th>1597</th>\n",
              "      <td>5.9</td>\n",
              "      <td>2.0</td>\n",
              "      <td>32.0</td>\n",
              "      <td>44.0</td>\n",
              "      <td>10.2</td>\n",
              "    </tr>\n",
              "    <tr>\n",
              "      <th>1598</th>\n",
              "      <td>6.0</td>\n",
              "      <td>3.6</td>\n",
              "      <td>18.0</td>\n",
              "      <td>42.0</td>\n",
              "      <td>11.0</td>\n",
              "    </tr>\n",
              "  </tbody>\n",
              "</table>\n",
              "<p>1599 rows × 5 columns</p>\n",
              "</div>"
            ],
            "text/plain": [
              "      fixed acidity  residual sugar  free sulfur dioxide  \\\n",
              "0               7.4             1.9                 11.0   \n",
              "1               7.8             2.6                 25.0   \n",
              "2               7.8             2.3                 15.0   \n",
              "3              11.2             1.9                 17.0   \n",
              "4               7.4             1.9                 11.0   \n",
              "...             ...             ...                  ...   \n",
              "1594            6.2             2.0                 32.0   \n",
              "1595            5.9             2.2                 39.0   \n",
              "1596            6.3             2.3                 29.0   \n",
              "1597            5.9             2.0                 32.0   \n",
              "1598            6.0             3.6                 18.0   \n",
              "\n",
              "      total sulfur dioxide  alcohol  \n",
              "0                     34.0      9.4  \n",
              "1                     67.0      9.8  \n",
              "2                     54.0      9.8  \n",
              "3                     60.0      9.8  \n",
              "4                     34.0      9.4  \n",
              "...                    ...      ...  \n",
              "1594                  44.0     10.5  \n",
              "1595                  51.0     11.2  \n",
              "1596                  40.0     11.0  \n",
              "1597                  44.0     10.2  \n",
              "1598                  42.0     11.0  \n",
              "\n",
              "[1599 rows x 5 columns]"
            ]
          },
          "execution_count": 40,
          "metadata": {},
          "output_type": "execute_result"
        }
      ],
      "source": [
        "from sklearn.feature_selection import VarianceThreshold\n",
        "vt=VarianceThreshold(threshold=1)\n",
        "vt.fit(X)\n",
        "cols=X.columns[vt.get_support()]\n",
        "X[cols]"
      ]
    },
    {
      "cell_type": "code",
      "execution_count": null,
      "id": "7a691977",
      "metadata": {
        "id": "7a691977"
      },
      "outputs": [],
      "source": [
        "if complete row is NaN can we drop NaN values\n",
        "\n",
        "# many approaches ===== R &D\n",
        "# 100 : 50 NaN"
      ]
    },
    {
      "cell_type": "code",
      "execution_count": null,
      "id": "477cb9cb",
      "metadata": {
        "id": "477cb9cb",
        "outputId": "59e0455e-08f6-4e75-e4bf-73f1a0de5846"
      },
      "outputs": [
        {
          "data": {
            "text/html": [
              "<div>\n",
              "<style scoped>\n",
              "    .dataframe tbody tr th:only-of-type {\n",
              "        vertical-align: middle;\n",
              "    }\n",
              "\n",
              "    .dataframe tbody tr th {\n",
              "        vertical-align: top;\n",
              "    }\n",
              "\n",
              "    .dataframe thead th {\n",
              "        text-align: right;\n",
              "    }\n",
              "</style>\n",
              "<table border=\"1\" class=\"dataframe\">\n",
              "  <thead>\n",
              "    <tr style=\"text-align: right;\">\n",
              "      <th></th>\n",
              "      <th>fixed acidity</th>\n",
              "      <th>volatile acidity</th>\n",
              "      <th>citric acid</th>\n",
              "      <th>residual sugar</th>\n",
              "      <th>chlorides</th>\n",
              "      <th>free sulfur dioxide</th>\n",
              "      <th>total sulfur dioxide</th>\n",
              "      <th>density</th>\n",
              "      <th>pH</th>\n",
              "      <th>sulphates</th>\n",
              "      <th>alcohol</th>\n",
              "    </tr>\n",
              "  </thead>\n",
              "  <tbody>\n",
              "    <tr>\n",
              "      <th>0</th>\n",
              "      <td>7.4</td>\n",
              "      <td>0.700</td>\n",
              "      <td>0.00</td>\n",
              "      <td>1.9</td>\n",
              "      <td>0.076</td>\n",
              "      <td>11.0</td>\n",
              "      <td>34.0</td>\n",
              "      <td>0.99780</td>\n",
              "      <td>3.51</td>\n",
              "      <td>0.56</td>\n",
              "      <td>9.4</td>\n",
              "    </tr>\n",
              "    <tr>\n",
              "      <th>1</th>\n",
              "      <td>7.8</td>\n",
              "      <td>0.880</td>\n",
              "      <td>0.00</td>\n",
              "      <td>2.6</td>\n",
              "      <td>0.098</td>\n",
              "      <td>25.0</td>\n",
              "      <td>67.0</td>\n",
              "      <td>0.99680</td>\n",
              "      <td>3.20</td>\n",
              "      <td>0.68</td>\n",
              "      <td>9.8</td>\n",
              "    </tr>\n",
              "    <tr>\n",
              "      <th>2</th>\n",
              "      <td>7.8</td>\n",
              "      <td>0.760</td>\n",
              "      <td>0.04</td>\n",
              "      <td>2.3</td>\n",
              "      <td>0.092</td>\n",
              "      <td>15.0</td>\n",
              "      <td>54.0</td>\n",
              "      <td>0.99700</td>\n",
              "      <td>3.26</td>\n",
              "      <td>0.65</td>\n",
              "      <td>9.8</td>\n",
              "    </tr>\n",
              "    <tr>\n",
              "      <th>3</th>\n",
              "      <td>11.2</td>\n",
              "      <td>0.280</td>\n",
              "      <td>0.56</td>\n",
              "      <td>1.9</td>\n",
              "      <td>0.075</td>\n",
              "      <td>17.0</td>\n",
              "      <td>60.0</td>\n",
              "      <td>0.99800</td>\n",
              "      <td>3.16</td>\n",
              "      <td>0.58</td>\n",
              "      <td>9.8</td>\n",
              "    </tr>\n",
              "    <tr>\n",
              "      <th>4</th>\n",
              "      <td>7.4</td>\n",
              "      <td>0.700</td>\n",
              "      <td>0.00</td>\n",
              "      <td>1.9</td>\n",
              "      <td>0.076</td>\n",
              "      <td>11.0</td>\n",
              "      <td>34.0</td>\n",
              "      <td>0.99780</td>\n",
              "      <td>3.51</td>\n",
              "      <td>0.56</td>\n",
              "      <td>9.4</td>\n",
              "    </tr>\n",
              "    <tr>\n",
              "      <th>...</th>\n",
              "      <td>...</td>\n",
              "      <td>...</td>\n",
              "      <td>...</td>\n",
              "      <td>...</td>\n",
              "      <td>...</td>\n",
              "      <td>...</td>\n",
              "      <td>...</td>\n",
              "      <td>...</td>\n",
              "      <td>...</td>\n",
              "      <td>...</td>\n",
              "      <td>...</td>\n",
              "    </tr>\n",
              "    <tr>\n",
              "      <th>1594</th>\n",
              "      <td>6.2</td>\n",
              "      <td>0.600</td>\n",
              "      <td>0.08</td>\n",
              "      <td>2.0</td>\n",
              "      <td>0.090</td>\n",
              "      <td>32.0</td>\n",
              "      <td>44.0</td>\n",
              "      <td>0.99490</td>\n",
              "      <td>3.45</td>\n",
              "      <td>0.58</td>\n",
              "      <td>10.5</td>\n",
              "    </tr>\n",
              "    <tr>\n",
              "      <th>1595</th>\n",
              "      <td>5.9</td>\n",
              "      <td>0.550</td>\n",
              "      <td>0.10</td>\n",
              "      <td>2.2</td>\n",
              "      <td>0.062</td>\n",
              "      <td>39.0</td>\n",
              "      <td>51.0</td>\n",
              "      <td>0.99512</td>\n",
              "      <td>3.52</td>\n",
              "      <td>0.76</td>\n",
              "      <td>11.2</td>\n",
              "    </tr>\n",
              "    <tr>\n",
              "      <th>1596</th>\n",
              "      <td>6.3</td>\n",
              "      <td>0.510</td>\n",
              "      <td>0.13</td>\n",
              "      <td>2.3</td>\n",
              "      <td>0.076</td>\n",
              "      <td>29.0</td>\n",
              "      <td>40.0</td>\n",
              "      <td>0.99574</td>\n",
              "      <td>3.42</td>\n",
              "      <td>0.75</td>\n",
              "      <td>11.0</td>\n",
              "    </tr>\n",
              "    <tr>\n",
              "      <th>1597</th>\n",
              "      <td>5.9</td>\n",
              "      <td>0.645</td>\n",
              "      <td>0.12</td>\n",
              "      <td>2.0</td>\n",
              "      <td>0.075</td>\n",
              "      <td>32.0</td>\n",
              "      <td>44.0</td>\n",
              "      <td>0.99547</td>\n",
              "      <td>3.57</td>\n",
              "      <td>0.71</td>\n",
              "      <td>10.2</td>\n",
              "    </tr>\n",
              "    <tr>\n",
              "      <th>1598</th>\n",
              "      <td>6.0</td>\n",
              "      <td>0.310</td>\n",
              "      <td>0.47</td>\n",
              "      <td>3.6</td>\n",
              "      <td>0.067</td>\n",
              "      <td>18.0</td>\n",
              "      <td>42.0</td>\n",
              "      <td>0.99549</td>\n",
              "      <td>3.39</td>\n",
              "      <td>0.66</td>\n",
              "      <td>11.0</td>\n",
              "    </tr>\n",
              "  </tbody>\n",
              "</table>\n",
              "<p>1599 rows × 11 columns</p>\n",
              "</div>"
            ],
            "text/plain": [
              "      fixed acidity  volatile acidity  citric acid  residual sugar  chlorides  \\\n",
              "0               7.4             0.700         0.00             1.9      0.076   \n",
              "1               7.8             0.880         0.00             2.6      0.098   \n",
              "2               7.8             0.760         0.04             2.3      0.092   \n",
              "3              11.2             0.280         0.56             1.9      0.075   \n",
              "4               7.4             0.700         0.00             1.9      0.076   \n",
              "...             ...               ...          ...             ...        ...   \n",
              "1594            6.2             0.600         0.08             2.0      0.090   \n",
              "1595            5.9             0.550         0.10             2.2      0.062   \n",
              "1596            6.3             0.510         0.13             2.3      0.076   \n",
              "1597            5.9             0.645         0.12             2.0      0.075   \n",
              "1598            6.0             0.310         0.47             3.6      0.067   \n",
              "\n",
              "      free sulfur dioxide  total sulfur dioxide  density    pH  sulphates  \\\n",
              "0                    11.0                  34.0  0.99780  3.51       0.56   \n",
              "1                    25.0                  67.0  0.99680  3.20       0.68   \n",
              "2                    15.0                  54.0  0.99700  3.26       0.65   \n",
              "3                    17.0                  60.0  0.99800  3.16       0.58   \n",
              "4                    11.0                  34.0  0.99780  3.51       0.56   \n",
              "...                   ...                   ...      ...   ...        ...   \n",
              "1594                 32.0                  44.0  0.99490  3.45       0.58   \n",
              "1595                 39.0                  51.0  0.99512  3.52       0.76   \n",
              "1596                 29.0                  40.0  0.99574  3.42       0.75   \n",
              "1597                 32.0                  44.0  0.99547  3.57       0.71   \n",
              "1598                 18.0                  42.0  0.99549  3.39       0.66   \n",
              "\n",
              "      alcohol  \n",
              "0         9.4  \n",
              "1         9.8  \n",
              "2         9.8  \n",
              "3         9.8  \n",
              "4         9.4  \n",
              "...       ...  \n",
              "1594     10.5  \n",
              "1595     11.2  \n",
              "1596     11.0  \n",
              "1597     10.2  \n",
              "1598     11.0  \n",
              "\n",
              "[1599 rows x 11 columns]"
            ]
          },
          "execution_count": 51,
          "metadata": {},
          "output_type": "execute_result"
        }
      ],
      "source": [
        "import pandas as pd\n",
        "\n",
        "data=pd.read_csv(\"C:\\\\Users\\\\omkar\\\\OneDrive\\\\Documents\\\\Data science\\\\Naresh IT\\\\Datafiles\\\\winequality_red.csv\")\n",
        "data.head()\n",
        "\n",
        "X=data.drop('quality',axis=1)\n",
        "y=data['quality']\n",
        "\n",
        "from sklearn.feature_selection import VarianceThreshold\n",
        "vt=VarianceThreshold()  # default threshold=0.0\n",
        "vt.fit(X)\n",
        "cols=X.columns[vt.get_support()]  # Variance=0\n",
        "X[cols]\n",
        "\n",
        "# what is the threshold you need to keep: no answer\n",
        "\n",
        "# pH column is not removed which means its variance is not zero"
      ]
    },
    {
      "cell_type": "code",
      "execution_count": null,
      "id": "3138213d",
      "metadata": {
        "id": "3138213d",
        "outputId": "3825897c-2927-41da-b1de-3d15c80ebd69"
      },
      "outputs": [
        {
          "data": {
            "text/plain": [
              "0.15438646490354266"
            ]
          },
          "execution_count": 52,
          "metadata": {},
          "output_type": "execute_result"
        }
      ],
      "source": [
        "X['pH'].std()"
      ]
    },
    {
      "cell_type": "code",
      "execution_count": null,
      "id": "c6cd993d",
      "metadata": {
        "id": "c6cd993d",
        "outputId": "82ac8fb6-3d22-4454-e265-4427e3467375"
      },
      "outputs": [
        {
          "data": {
            "text/html": [
              "<div>\n",
              "<style scoped>\n",
              "    .dataframe tbody tr th:only-of-type {\n",
              "        vertical-align: middle;\n",
              "    }\n",
              "\n",
              "    .dataframe tbody tr th {\n",
              "        vertical-align: top;\n",
              "    }\n",
              "\n",
              "    .dataframe thead th {\n",
              "        text-align: right;\n",
              "    }\n",
              "</style>\n",
              "<table border=\"1\" class=\"dataframe\">\n",
              "  <thead>\n",
              "    <tr style=\"text-align: right;\">\n",
              "      <th></th>\n",
              "      <th>fixed acidity</th>\n",
              "      <th>volatile acidity</th>\n",
              "      <th>citric acid</th>\n",
              "      <th>residual sugar</th>\n",
              "      <th>chlorides</th>\n",
              "      <th>free sulfur dioxide</th>\n",
              "      <th>total sulfur dioxide</th>\n",
              "      <th>density</th>\n",
              "      <th>pH</th>\n",
              "      <th>sulphates</th>\n",
              "      <th>alcohol</th>\n",
              "      <th>quality</th>\n",
              "    </tr>\n",
              "  </thead>\n",
              "  <tbody>\n",
              "    <tr>\n",
              "      <th>count</th>\n",
              "      <td>1599.000000</td>\n",
              "      <td>1599.000000</td>\n",
              "      <td>1599.000000</td>\n",
              "      <td>1599.000000</td>\n",
              "      <td>1599.000000</td>\n",
              "      <td>1599.000000</td>\n",
              "      <td>1599.000000</td>\n",
              "      <td>1599.000000</td>\n",
              "      <td>1599.000000</td>\n",
              "      <td>1599.000000</td>\n",
              "      <td>1599.000000</td>\n",
              "      <td>1599.000000</td>\n",
              "    </tr>\n",
              "    <tr>\n",
              "      <th>mean</th>\n",
              "      <td>8.319637</td>\n",
              "      <td>0.527821</td>\n",
              "      <td>0.270976</td>\n",
              "      <td>2.538806</td>\n",
              "      <td>0.087467</td>\n",
              "      <td>15.874922</td>\n",
              "      <td>46.467792</td>\n",
              "      <td>0.996747</td>\n",
              "      <td>3.311113</td>\n",
              "      <td>0.658149</td>\n",
              "      <td>10.422983</td>\n",
              "      <td>5.636023</td>\n",
              "    </tr>\n",
              "    <tr>\n",
              "      <th>std</th>\n",
              "      <td>1.741096</td>\n",
              "      <td>0.179060</td>\n",
              "      <td>0.194801</td>\n",
              "      <td>1.409928</td>\n",
              "      <td>0.047065</td>\n",
              "      <td>10.460157</td>\n",
              "      <td>32.895324</td>\n",
              "      <td>0.001887</td>\n",
              "      <td>0.154386</td>\n",
              "      <td>0.169507</td>\n",
              "      <td>1.065668</td>\n",
              "      <td>0.807569</td>\n",
              "    </tr>\n",
              "    <tr>\n",
              "      <th>min</th>\n",
              "      <td>4.600000</td>\n",
              "      <td>0.120000</td>\n",
              "      <td>0.000000</td>\n",
              "      <td>0.900000</td>\n",
              "      <td>0.012000</td>\n",
              "      <td>1.000000</td>\n",
              "      <td>6.000000</td>\n",
              "      <td>0.990070</td>\n",
              "      <td>2.740000</td>\n",
              "      <td>0.330000</td>\n",
              "      <td>8.400000</td>\n",
              "      <td>3.000000</td>\n",
              "    </tr>\n",
              "    <tr>\n",
              "      <th>25%</th>\n",
              "      <td>7.100000</td>\n",
              "      <td>0.390000</td>\n",
              "      <td>0.090000</td>\n",
              "      <td>1.900000</td>\n",
              "      <td>0.070000</td>\n",
              "      <td>7.000000</td>\n",
              "      <td>22.000000</td>\n",
              "      <td>0.995600</td>\n",
              "      <td>3.210000</td>\n",
              "      <td>0.550000</td>\n",
              "      <td>9.500000</td>\n",
              "      <td>5.000000</td>\n",
              "    </tr>\n",
              "    <tr>\n",
              "      <th>50%</th>\n",
              "      <td>7.900000</td>\n",
              "      <td>0.520000</td>\n",
              "      <td>0.260000</td>\n",
              "      <td>2.200000</td>\n",
              "      <td>0.079000</td>\n",
              "      <td>14.000000</td>\n",
              "      <td>38.000000</td>\n",
              "      <td>0.996750</td>\n",
              "      <td>3.310000</td>\n",
              "      <td>0.620000</td>\n",
              "      <td>10.200000</td>\n",
              "      <td>6.000000</td>\n",
              "    </tr>\n",
              "    <tr>\n",
              "      <th>75%</th>\n",
              "      <td>9.200000</td>\n",
              "      <td>0.640000</td>\n",
              "      <td>0.420000</td>\n",
              "      <td>2.600000</td>\n",
              "      <td>0.090000</td>\n",
              "      <td>21.000000</td>\n",
              "      <td>62.000000</td>\n",
              "      <td>0.997835</td>\n",
              "      <td>3.400000</td>\n",
              "      <td>0.730000</td>\n",
              "      <td>11.100000</td>\n",
              "      <td>6.000000</td>\n",
              "    </tr>\n",
              "    <tr>\n",
              "      <th>max</th>\n",
              "      <td>15.900000</td>\n",
              "      <td>1.580000</td>\n",
              "      <td>1.000000</td>\n",
              "      <td>15.500000</td>\n",
              "      <td>0.611000</td>\n",
              "      <td>72.000000</td>\n",
              "      <td>289.000000</td>\n",
              "      <td>1.003690</td>\n",
              "      <td>4.010000</td>\n",
              "      <td>2.000000</td>\n",
              "      <td>14.900000</td>\n",
              "      <td>8.000000</td>\n",
              "    </tr>\n",
              "  </tbody>\n",
              "</table>\n",
              "</div>"
            ],
            "text/plain": [
              "       fixed acidity  volatile acidity  citric acid  residual sugar  \\\n",
              "count    1599.000000       1599.000000  1599.000000     1599.000000   \n",
              "mean        8.319637          0.527821     0.270976        2.538806   \n",
              "std         1.741096          0.179060     0.194801        1.409928   \n",
              "min         4.600000          0.120000     0.000000        0.900000   \n",
              "25%         7.100000          0.390000     0.090000        1.900000   \n",
              "50%         7.900000          0.520000     0.260000        2.200000   \n",
              "75%         9.200000          0.640000     0.420000        2.600000   \n",
              "max        15.900000          1.580000     1.000000       15.500000   \n",
              "\n",
              "         chlorides  free sulfur dioxide  total sulfur dioxide      density  \\\n",
              "count  1599.000000          1599.000000           1599.000000  1599.000000   \n",
              "mean      0.087467            15.874922             46.467792     0.996747   \n",
              "std       0.047065            10.460157             32.895324     0.001887   \n",
              "min       0.012000             1.000000              6.000000     0.990070   \n",
              "25%       0.070000             7.000000             22.000000     0.995600   \n",
              "50%       0.079000            14.000000             38.000000     0.996750   \n",
              "75%       0.090000            21.000000             62.000000     0.997835   \n",
              "max       0.611000            72.000000            289.000000     1.003690   \n",
              "\n",
              "                pH    sulphates      alcohol      quality  \n",
              "count  1599.000000  1599.000000  1599.000000  1599.000000  \n",
              "mean      3.311113     0.658149    10.422983     5.636023  \n",
              "std       0.154386     0.169507     1.065668     0.807569  \n",
              "min       2.740000     0.330000     8.400000     3.000000  \n",
              "25%       3.210000     0.550000     9.500000     5.000000  \n",
              "50%       3.310000     0.620000    10.200000     6.000000  \n",
              "75%       3.400000     0.730000    11.100000     6.000000  \n",
              "max       4.010000     2.000000    14.900000     8.000000  "
            ]
          },
          "execution_count": 41,
          "metadata": {},
          "output_type": "execute_result"
        }
      ],
      "source": [
        "data.describe()"
      ]
    },
    {
      "cell_type": "markdown",
      "id": "fad1f25b",
      "metadata": {
        "id": "fad1f25b"
      },
      "source": [
        "$Method-2$:\n",
        "    \n",
        "**Information gain**\n",
        "\n",
        "mutual info classify\n",
        "\n",
        "\n",
        "- It is value estimating how much relationship/how much information about target variable\n",
        "\n",
        "- 27% information about target variable\n",
        "\n",
        "- 0 mean both variables are independent"
      ]
    },
    {
      "cell_type": "code",
      "execution_count": null,
      "id": "03f76401",
      "metadata": {
        "id": "03f76401"
      },
      "outputs": [],
      "source": [
        "import pandas as pd\n",
        "\n",
        "# Read the data\n",
        "data=pd.read_csv(\"C:\\\\Users\\\\omkar\\\\OneDrive\\\\Documents\\\\Data science\\\\Naresh IT\\\\Datafiles\\\\winequality_red.csv\")\n",
        "\n",
        "#Sepearte input and target features\n",
        "X=data.drop('quality',axis=1)\n",
        "y=data['quality']"
      ]
    },
    {
      "cell_type": "code",
      "execution_count": null,
      "id": "a1d4232e",
      "metadata": {
        "id": "a1d4232e",
        "outputId": "d49a1278-b400-490b-c240-d778b5c46234"
      },
      "outputs": [
        {
          "data": {
            "text/plain": [
              "array([0.04715615, 0.11842476, 0.0629859 , 0.02923853, 0.05956057,\n",
              "       0.03763277, 0.07775293, 0.08401173, 0.        , 0.08398851,\n",
              "       0.16776668])"
            ]
          },
          "execution_count": 44,
          "metadata": {},
          "output_type": "execute_result"
        }
      ],
      "source": [
        "from sklearn.feature_selection import mutual_info_classif\n",
        "MI=mutual_info_classif(X,y)\n",
        "MI"
      ]
    },
    {
      "cell_type": "code",
      "execution_count": null,
      "id": "19919666",
      "metadata": {
        "id": "19919666",
        "outputId": "c8eaa05c-24bf-44ef-ab0f-6d50996d75bc"
      },
      "outputs": [
        {
          "data": {
            "text/plain": [
              "11"
            ]
          },
          "execution_count": 45,
          "metadata": {},
          "output_type": "execute_result"
        }
      ],
      "source": [
        "len(MI)"
      ]
    },
    {
      "cell_type": "code",
      "execution_count": null,
      "id": "65527fce",
      "metadata": {
        "id": "65527fce",
        "outputId": "6f2b7d4e-13dd-401f-8213-3d341c98d12d"
      },
      "outputs": [
        {
          "data": {
            "text/plain": [
              "fixed acidity           0.047156\n",
              "volatile acidity        0.118425\n",
              "citric acid             0.062986\n",
              "residual sugar          0.029239\n",
              "chlorides               0.059561\n",
              "free sulfur dioxide     0.037633\n",
              "total sulfur dioxide    0.077753\n",
              "density                 0.084012\n",
              "pH                      0.000000\n",
              "sulphates               0.083989\n",
              "alcohol                 0.167767\n",
              "dtype: float64"
            ]
          },
          "execution_count": 49,
          "metadata": {},
          "output_type": "execute_result"
        }
      ],
      "source": [
        "# Two methods almost enough\n",
        "# Constan features ==== you need to remove\n",
        "# Mutual information\n",
        "val=pd.Series(MI)\n",
        "val.index=X.columns\n",
        "val"
      ]
    },
    {
      "cell_type": "code",
      "execution_count": null,
      "id": "7cb1ffb8",
      "metadata": {
        "id": "7cb1ffb8",
        "outputId": "4132fbf1-f62b-483b-a3be-d4b87780e03f"
      },
      "outputs": [
        {
          "data": {
            "text/plain": [
              "pH                      0.000000\n",
              "residual sugar          0.029239\n",
              "free sulfur dioxide     0.037633\n",
              "fixed acidity           0.047156\n",
              "chlorides               0.059561\n",
              "citric acid             0.062986\n",
              "total sulfur dioxide    0.077753\n",
              "sulphates               0.083989\n",
              "density                 0.084012\n",
              "volatile acidity        0.118425\n",
              "alcohol                 0.167767\n",
              "dtype: float64"
            ]
          },
          "execution_count": 53,
          "metadata": {},
          "output_type": "execute_result"
        }
      ],
      "source": [
        "val.sort_values(ascending=True)\n",
        "\n",
        "# What is meant by pH= 0.0000 ?\n",
        "# what is these all values?\n",
        "\n",
        "# pH and target column both are indepent each other"
      ]
    },
    {
      "cell_type": "code",
      "execution_count": null,
      "id": "2c401ba6",
      "metadata": {
        "id": "2c401ba6",
        "outputId": "df2835bb-ab02-4194-ac8f-e36dd3a6596e"
      },
      "outputs": [
        {
          "data": {
            "text/plain": [
              "<Axes: >"
            ]
          },
          "execution_count": 57,
          "metadata": {},
          "output_type": "execute_result"
        },
        {
          "data": {
            "image/png": "[encoded data removed]",
            "text/plain": [
              "<Figure size 640x480 with 1 Axes>"
            ]
          },
          "metadata": {},
          "output_type": "display_data"
        }
      ],
      "source": [
        "val.sort_values(ascending=True).plot(kind='bar')\n"
      ]
    },
    {
      "cell_type": "markdown",
      "id": "9a59d828",
      "metadata": {
        "id": "9a59d828"
      },
      "source": [
        "is this suitable for both classification and regression sir mutual info\n",
        "\n",
        "at which step will do these feature selection\n",
        "\n",
        "why we are splitting : x and y\n",
        "    \n",
        "python code will allow X and y sepeartely\n",
        "\n",
        "thats why we are splitting\n",
        "\n",
        "ones we extract the important fetaures , those features used to develop a model\n",
        "\n"
      ]
    },
    {
      "cell_type": "code",
      "execution_count": null,
      "id": "1ca13efa",
      "metadata": {
        "id": "1ca13efa",
        "outputId": "dfa43add-5888-4252-a0a9-c6eec58022f0"
      },
      "outputs": [
        {
          "name": "stdout",
          "output_type": "stream",
          "text": [
            "[0.06209034 0.1151309  0.05305306 0.04103118 0.03186552 0.01151989\n",
            " 0.08234434 0.08410012 0.01538596 0.11026483 0.17567737]\n",
            "0     0.062090\n",
            "1     0.115131\n",
            "2     0.053053\n",
            "3     0.041031\n",
            "4     0.031866\n",
            "5     0.011520\n",
            "6     0.082344\n",
            "7     0.084100\n",
            "8     0.015386\n",
            "9     0.110265\n",
            "10    0.175677\n",
            "dtype: float64\n",
            "fixed acidity           0.062090\n",
            "volatile acidity        0.115131\n",
            "citric acid             0.053053\n",
            "residual sugar          0.041031\n",
            "chlorides               0.031866\n",
            "free sulfur dioxide     0.011520\n",
            "total sulfur dioxide    0.082344\n",
            "density                 0.084100\n",
            "pH                      0.015386\n",
            "sulphates               0.110265\n",
            "alcohol                 0.175677\n",
            "dtype: float64\n"
          ]
        },
        {
          "data": {
            "text/plain": [
              "<Axes: >"
            ]
          },
          "execution_count": 3,
          "metadata": {},
          "output_type": "execute_result"
        },
        {
          "data": {
            "image/png": "[encoded data removed]",
            "text/plain": [
              "<Figure size 640x480 with 1 Axes>"
            ]
          },
          "metadata": {},
          "output_type": "display_data"
        }
      ],
      "source": [
        "import pandas as pd\n",
        "\n",
        "# Read the data\n",
        "data=pd.read_csv(\"C:\\\\Users\\\\omkar\\\\OneDrive\\\\Documents\\\\Data science\\\\Naresh IT\\\\Datafiles\\\\winequality_red.csv\")\n",
        "\n",
        "#Sepearte input and target features\n",
        "X=data.drop('quality',axis=1)\n",
        "y=data['quality']\n",
        "\n",
        "from sklearn.feature_selection import mutual_info_classif\n",
        "MI=mutual_info_classif(X,y)\n",
        "\n",
        "print(MI)\n",
        "\n",
        "val=pd.Series(MI)\n",
        "print(val)\n",
        "val.index=X.columns\n",
        "\n",
        "val.sort_values(ascending=True)\n",
        "\n",
        "print(val)\n",
        "\n",
        "val.sort_values(ascending=True).plot(kind='bar')"
      ]
    },
    {
      "cell_type": "code",
      "execution_count": null,
      "id": "2fa68b02",
      "metadata": {
        "id": "2fa68b02",
        "outputId": "f80d6df0-c965-4789-d432-7aeaaf895726"
      },
      "outputs": [
        {
          "data": {
            "text/plain": [
              "Index(['residual sugar', 'pH', 'chlorides', 'free sulfur dioxide',\n",
              "       'fixed acidity'],\n",
              "      dtype='object')"
            ]
          },
          "execution_count": 63,
          "metadata": {},
          "output_type": "execute_result"
        }
      ],
      "source": [
        "val.sort_values(ascending=True).index[:5]"
      ]
    },
    {
      "cell_type": "markdown",
      "id": "5d2ce30a",
      "metadata": {
        "id": "5d2ce30a"
      },
      "source": [
        "$SelectKbest$"
      ]
    },
    {
      "cell_type": "code",
      "execution_count": null,
      "id": "1aaa1975",
      "metadata": {
        "id": "1aaa1975"
      },
      "outputs": [],
      "source": [
        "from sklearn.feature_selection import SelectKBest,mutual_info_classif\n",
        "import pandas as pd\n",
        "\n",
        "# Read the data\n",
        "data=pd.read_csv(\"C:\\\\Users\\\\omkar\\\\OneDrive\\\\Documents\\\\Data science\\\\Naresh IT\\\\Datafiles\\\\winequality_red.csv\")\n",
        "\n",
        "#Sepearte input and target features\n",
        "X=data.drop('quality',axis=1)\n",
        "y=data['quality']\n",
        "\n",
        "# Assume that you did not done mutual info classii\n",
        "top_5=SelectKBest(mutual_info_classif,k=5)\n",
        "val=top_5.fit(X,y)"
      ]
    },
    {
      "cell_type": "code",
      "execution_count": null,
      "id": "bf4e0daa",
      "metadata": {
        "id": "bf4e0daa",
        "outputId": "080c4e8b-2181-4eb4-e5ad-2f8828a7bf23"
      },
      "outputs": [
        {
          "data": {
            "text/plain": [
              "array([False,  True, False, False, False, False,  True,  True, False,\n",
              "        True,  True])"
            ]
          },
          "execution_count": 75,
          "metadata": {},
          "output_type": "execute_result"
        }
      ],
      "source": [
        "val.get_support()"
      ]
    },
    {
      "cell_type": "code",
      "execution_count": null,
      "id": "dbf0e743",
      "metadata": {
        "id": "dbf0e743",
        "outputId": "0b88075d-2963-4966-f26a-70c9fa5c02b2"
      },
      "outputs": [
        {
          "data": {
            "text/plain": [
              "array(['volatile acidity', 'total sulfur dioxide', 'density', 'sulphates',\n",
              "       'alcohol'], dtype=object)"
            ]
          },
          "execution_count": 74,
          "metadata": {},
          "output_type": "execute_result"
        }
      ],
      "source": [
        "val.get_feature_names_out()  # Which is True"
      ]
    },
    {
      "cell_type": "code",
      "execution_count": null,
      "id": "c448cd51",
      "metadata": {
        "id": "c448cd51",
        "outputId": "dc7e5622-ee2a-472b-a3f3-9839e360d7ea"
      },
      "outputs": [
        {
          "data": {
            "text/plain": [
              "{'k': 5,\n",
              " 'score_func': <function sklearn.feature_selection._mutual_info.mutual_info_classif(X, y, *, discrete_features='auto', n_neighbors=3, copy=True, random_state=None)>}"
            ]
          },
          "execution_count": 77,
          "metadata": {},
          "output_type": "execute_result"
        }
      ],
      "source": [
        "val.get_params()  # whatever you pass inside package"
      ]
    },
    {
      "cell_type": "code",
      "execution_count": null,
      "id": "e1608dac",
      "metadata": {
        "id": "e1608dac",
        "outputId": "6d248561-a0a1-4520-b5ad-c490dcc6119c"
      },
      "outputs": [
        {
          "data": {
            "text/plain": [
              "array([0.03971999, 0.14506135, 0.04865869, 0.04292575, 0.00302099,\n",
              "       0.05350199, 0.08979522, 0.07728705, 0.00436192, 0.09787079,\n",
              "       0.16016408])"
            ]
          },
          "execution_count": 78,
          "metadata": {},
          "output_type": "execute_result"
        }
      ],
      "source": [
        "val.scores_"
      ]
    },
    {
      "cell_type": "code",
      "execution_count": null,
      "id": "5a78ee9f",
      "metadata": {
        "id": "5a78ee9f"
      },
      "outputs": [],
      "source": []
    },
    {
      "cell_type": "code",
      "execution_count": null,
      "id": "2934603e",
      "metadata": {
        "id": "2934603e"
      },
      "outputs": [],
      "source": []
    },
    {
      "cell_type": "code",
      "execution_count": null,
      "id": "1558f512",
      "metadata": {
        "id": "1558f512"
      },
      "outputs": [],
      "source": []
    },
    {
      "cell_type": "code",
      "execution_count": null,
      "id": "80c57368",
      "metadata": {
        "id": "80c57368"
      },
      "outputs": [],
      "source": []
    }
  ],
  "metadata": {
    "kernelspec": {
      "display_name": "Python 3 (ipykernel)",
      "language": "python",
      "name": "python3"
    },
    "language_info": {
      "codemirror_mode": {
        "name": "ipython",
        "version": 3
      },
      "file_extension": ".py",
      "mimetype": "text/x-python",
      "name": "python",
      "nbconvert_exporter": "python",
      "pygments_lexer": "ipython3",
      "version": "3.10.9"
    },
    "colab": {
      "provenance": []
    }
  },
  "nbformat": 4,
  "nbformat_minor": 5
}